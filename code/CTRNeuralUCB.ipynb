{
 "cells": [
  {
   "cell_type": "code",
   "execution_count": 8,
   "metadata": {},
   "outputs": [
    {
     "data": {
      "text/html": [
       "<style>.container { width:95% !important; } </style>"
      ],
      "text/plain": [
       "<IPython.core.display.HTML object>"
      ]
     },
     "metadata": {},
     "output_type": "display_data"
    },
    {
     "name": "stdout",
     "output_type": "stream",
     "text": [
      "The autoreload extension is already loaded. To reload it, use:\n",
      "  %reload_ext autoreload\n"
     ]
    }
   ],
   "source": [
    "from IPython.core.display import HTML\n",
    "display(HTML('<style>.container { width:95% !important; } </style>'))\n",
    "\n",
    "%load_ext autoreload\n",
    "%autoreload 2"
   ]
  },
  {
   "cell_type": "code",
   "execution_count": 2,
   "metadata": {},
   "outputs": [],
   "source": [
    "import numpy as np\n",
    "import matplotlib.pyplot as plt\n",
    "import seaborn as sns\n",
    "from neural_exploration import *\n",
    "import pandas as pd\n",
    "sns.set()"
   ]
  },
  {
   "cell_type": "markdown",
   "metadata": {},
   "source": [
    "## Read the dataset"
   ]
  },
  {
   "cell_type": "code",
   "execution_count": 3,
   "metadata": {},
   "outputs": [],
   "source": [
    "articles_file = \"./data/webscope-articles.txt\"\n",
    "log_file = \"/home/jupyter/neural_exploration/data/webscope-logs.txt\"\n",
    "articles_np = np.loadtxt(articles_file)\n",
    "articles = {}\n",
    "for art in articles_np:\n",
    "    articles[int(art[0])] = [float(x) for x in art[1:]]\n"
   ]
  },
  {
   "cell_type": "markdown",
   "metadata": {},
   "source": [
    "### Bandit settings"
   ]
  },
  {
   "cell_type": "code",
   "execution_count": 4,
   "metadata": {},
   "outputs": [],
   "source": [
    "T = int(100000)\n",
    "n_arms = 80\n",
    "n_features = 12\n",
    "noise_std = 0.1\n",
    "\n",
    "confidence_scaling_factor = noise_std\n",
    "\n",
    "n_sim = 2\n",
    "\n",
    "SEED = 42\n",
    "np.random.seed(SEED)"
   ]
  },
  {
   "cell_type": "markdown",
   "metadata": {},
   "source": [
    "### Neural network settings"
   ]
  },
  {
   "cell_type": "code",
   "execution_count": 5,
   "metadata": {},
   "outputs": [],
   "source": [
    "p = 0.2\n",
    "hidden_size = 64\n",
    "epochs = 100\n",
    "train_every = 10\n",
    "confidence_scaling_factor = 1.0\n",
    "use_cuda = False"
   ]
  },
  {
   "cell_type": "markdown",
   "metadata": {},
   "source": [
    "### NeuralUCB on linear rewards"
   ]
  },
  {
   "cell_type": "code",
   "execution_count": 6,
   "metadata": {},
   "outputs": [],
   "source": [
    "### mean reward function\n",
    "a = np.random.randn(n_features)\n",
    "a /= np.linalg.norm(a, ord=2)\n",
    "h = lambda x: 10*np.dot(a, x)\n",
    "bandit = ContextualBandit(T, n_arms, n_features, noise_std=noise_std, seed=SEED, articles=articles, log_file=log_file)\n"
   ]
  },
  {
   "cell_type": "code",
   "execution_count": 9,
   "metadata": {},
   "outputs": [
    {
     "name": "stderr",
     "output_type": "stream",
     "text": [
      "100%|██████████| 100000/100000 [2:40:19<00:00, 10.40it/s, total regret=1.02e+5, % optimal arm=1.23%, ctr=2.4331%, i=1233, score=30]\n",
      "100%|██████████| 100000/100000 [2:39:52<00:00, 10.42it/s, total regret=1.02e+5, % optimal arm=1.23%, ctr=3.1553%, i=1236, score=39]\n"
     ]
    }
   ],
   "source": [
    "\n",
    "regrets = np.empty((n_sim, T))\n",
    "\n",
    "for i in range(n_sim):\n",
    "    bandit.reset_rewards()\n",
    "    model = NeuralUCB(bandit,\n",
    "                      hidden_size=hidden_size,\n",
    "                      reg_factor=1.0,\n",
    "                      delta=0.1,\n",
    "                      confidence_scaling_factor=confidence_scaling_factor,\n",
    "                      training_window=100,\n",
    "                      p=p,\n",
    "                      learning_rate=0.01,\n",
    "                      epochs=epochs,\n",
    "                      train_every=train_every,\n",
    "                      use_cuda=use_cuda\n",
    "                     )\n",
    "        \n",
    "    model.run()\n",
    "    regrets[i] = np.cumsum(model.regrets)"
   ]
  },
  {
   "cell_type": "markdown",
   "metadata": {},
   "source": [
    "### Sublinear regret growth : the bandit problem is solved efficiently"
   ]
  },
  {
   "cell_type": "code",
   "execution_count": 10,
   "metadata": {},
   "outputs": [
    {
     "data": {
      "image/png": "[encoded data removed]",
      "text/plain": [
       "<Figure size 792x288 with 1 Axes>"
      ]
     },
     "metadata": {},
     "output_type": "display_data"
    }
   ],
   "source": [
    "fig, ax = plt.subplots(figsize=(11, 4), nrows=1, ncols=1)\n",
    "\n",
    "t = np.arange(T)\n",
    "\n",
    "mean_regrets = np.mean(regrets, axis=0)\n",
    "std_regrets = np.std(regrets, axis=0) / np.sqrt(regrets.shape[0])\n",
    "ax.plot(t, mean_regrets)\n",
    "ax.fill_between(t, mean_regrets - 2*std_regrets, mean_regrets + 2*std_regrets, alpha=0.15)\n",
    "    \n",
    "ax.set_title('Cumulative regret')\n",
    "\n",
    "plt.tight_layout()\n",
    "plt.show()\n",
    "\n",
    "fig.savefig('figures/neural_ucb_linear.pdf')"
   ]
  }
 ],
 "metadata": {
  "environment": {
   "name": "tf2-gpu.2-1.m55",
   "type": "gcloud",
   "uri": "gcr.io/deeplearning-platform-release/tf2-gpu.2-1:m55"
  },
  "kernelspec": {
   "display_name": "Python 3",
   "language": "python",
   "name": "python3"
  },
  "language_info": {
   "codemirror_mode": {
    "name": "ipython",
    "version": 3
   },
   "file_extension": ".py",
   "mimetype": "text/x-python",
   "name": "python",
   "nbconvert_exporter": "python",
   "pygments_lexer": "ipython3",
   "version": "3.7.8"
  }
 },
 "nbformat": 4,
 "nbformat_minor": 4
}
